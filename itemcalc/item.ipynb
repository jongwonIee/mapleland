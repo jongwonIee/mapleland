{
 "cells": [
  {
   "cell_type": "code",
   "execution_count": 15,
   "id": "8ead77a5-f851-4b4c-9673-66d23de50074",
   "metadata": {},
   "outputs": [
    {
     "name": "stdout",
     "output_type": "stream",
     "text": [
      "Input: 공 57, 럭 6, 아이템 크리븐\n",
      "N-Increase: 6\n",
      "Equivalent Values:\n",
      "- 갑충: 공 52, 럭 6\n",
      "- 코브라: 공 54, 럭 4\n",
      "- 캐스터스: 공 56, 럭 2\n",
      "- 크리븐: 공 57, 럭 6\n"
     ]
    }
   ],
   "source": [
    "def convert_to_equivalent(attack, luck, item_name, n_increase):\n",
    "    # 기준치 정의\n",
    "    standards = {\"갑충\": 110, \"코브라\": 120, \"캐스터스\": 130, \"크리븐\": 140}\n",
    "    \n",
    "    # 아이템 이름 매칭\n",
    "    matched_item = None\n",
    "    for name in standards:\n",
    "        if name.startswith(item_name) or item_name in name:\n",
    "            matched_item = name\n",
    "            break\n",
    "    if matched_item is None:\n",
    "        raise ValueError(f\"아이템 이름 '{item_name}'을 찾을 수 없습니다.\")\n",
    "    \n",
    "    current_base = standards[matched_item]\n",
    "    \n",
    "    # 계산 결과 저장\n",
    "    results = {}\n",
    "    for name, target_base in standards.items():\n",
    "        base_difference = target_base - current_base\n",
    "        attack_adjustment = base_difference // n_increase  # 몫 계산\n",
    "        luck_adjustment = base_difference % n_increase    # 나머지 계산\n",
    "        \n",
    "        # 결과 계산\n",
    "        equivalent_attack = attack + attack_adjustment\n",
    "        equivalent_luck = luck + luck_adjustment\n",
    "        \n",
    "        # 크리븐의 경우 특수한 계산 적용\n",
    "        if name == \"크리븐\" and luck < 6:\n",
    "            equivalent_attack -= 1  # 공격력에서 1을 뺀다\n",
    "            equivalent_luck += n_increase  # 럭에 n_increase를 더한다\n",
    "        \n",
    "        # 코브라와 캐스터스의 경우 럭이 n_increase 이상이면 럭을 공격력으로 환산\n",
    "        if (name == \"코브라\" or name == \"캐스터스\") and equivalent_luck >= n_increase:\n",
    "            # 럭을 n_increase로 나누어 몫을 공격력에 더하고 나머지를 럭에 둔다\n",
    "            additional_attack = equivalent_luck // n_increase\n",
    "            additional_luck = equivalent_luck % n_increase\n",
    "            equivalent_attack += additional_attack\n",
    "            equivalent_luck = additional_luck\n",
    "        \n",
    "        # 결과 저장\n",
    "        results[name] = (equivalent_attack, equivalent_luck)\n",
    "    \n",
    "    # 결과 출력\n",
    "    print(f\"Input: 공 {attack}, 럭 {luck}, 아이템 {matched_item}\")\n",
    "    print(f\"N-Increase: {n_increase}\")\n",
    "    print(\"Equivalent Values:\")\n",
    "    for name, (atk, luck_value) in results.items():\n",
    "        print(f\"- {name}: 공 {atk}, 럭 {luck_value}\")\n",
    "\n",
    "# 테스트 실행\n",
    "convert_to_equivalent(57, 6, \"크\", 6)"
   ]
  },
  {
   "cell_type": "code",
   "execution_count": null,
   "id": "08a51f74-3ec4-4d0c-8716-8e9ed0e2c56b",
   "metadata": {},
   "outputs": [],
   "source": []
  }
 ],
 "metadata": {
  "kernelspec": {
   "display_name": "Python 3 (ipykernel)",
   "language": "python",
   "name": "python3"
  },
  "language_info": {
   "codemirror_mode": {
    "name": "ipython",
    "version": 3
   },
   "file_extension": ".py",
   "mimetype": "text/x-python",
   "name": "python",
   "nbconvert_exporter": "python",
   "pygments_lexer": "ipython3",
   "version": "3.10.15"
  }
 },
 "nbformat": 4,
 "nbformat_minor": 5
}
