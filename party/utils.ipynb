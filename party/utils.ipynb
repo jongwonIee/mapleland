{
 "cells": [
  {
   "cell_type": "code",
   "execution_count": null,
   "id": "34ba38d4-559c-4798-b966-7cb8196439a7",
   "metadata": {},
   "outputs": [],
   "source": [
    "# Function to read a text file, replace \"어제\" with \"오늘\", and save it with the same name\n",
    "def replace_text_in_file(file_path):\n",
    "    # Open the file in read mode\n",
    "    with open(file_path, 'r', encoding='utf-8') as file:\n",
    "        content = file.read()  # Read the content of the file\n",
    "    \n",
    "    # Replace \"어제\" with \"오늘\"\n",
    "    updated_content = content.replace(\"어제\", \"오늘\")\n",
    "    \n",
    "    # Save the updated content back to the same file\n",
    "    with open(file_path, 'w', encoding='utf-8') as file:\n",
    "        file.write(updated_content)\n",
    "    \n",
    "    print(f\"Text replacement completed in {file_path}.\")\n",
    "\n",
    "# Specify the path to your file\n",
    "file_path = 'data/txt/1223.txt'  # Replace with the path to your file\n",
    "\n",
    "# Call the function to replace text and save the file\n",
    "replace_text_in_file(file_path)"
   ]
  }
 ],
 "metadata": {
  "kernelspec": {
   "display_name": "Python 3 (ipykernel)",
   "language": "python",
   "name": "python3"
  },
  "language_info": {
   "codemirror_mode": {
    "name": "ipython",
    "version": 3
   },
   "file_extension": ".py",
   "mimetype": "text/x-python",
   "name": "python",
   "nbconvert_exporter": "python",
   "pygments_lexer": "ipython3",
   "version": "3.10.15"
  }
 },
 "nbformat": 4,
 "nbformat_minor": 5
}
